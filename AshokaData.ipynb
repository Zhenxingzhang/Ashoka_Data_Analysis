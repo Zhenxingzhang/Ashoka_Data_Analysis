{
 "cells": [
  {
   "cell_type": "markdown",
   "metadata": {},
   "source": [
    "### Aahoka Data\n",
    "\n",
    "In summary, we extracted basic information about 117 nomiees and 102 or organizations. 97 nominees has connections to at least one organizations, and 20 moniees has no connection to any organization.\n",
    "\n",
    "A total number of 56 nominees have been contacted and more detailed data about themselves and their related organizations has been collected.\n",
    "\n",
    "In this notebook, we parsed \"ashoka-social-api-export.json\" file, and extracted the tabular data about the nominees and organizations for further analysis.\n",
    "\n",
    "The nominees data has been saved in \"nominee_surveys.csv\" file. And the organizations data has been saved in \"orgs_surveys.csv\" file "
   ]
  },
  {
   "cell_type": "code",
   "execution_count": 3,
   "metadata": {
    "collapsed": false
   },
   "outputs": [],
   "source": [
    "import json\n",
    "import pandas as pd\n",
    "import numpy as np\n",
    "import matplotlib.pyplot as plt\n",
    "%matplotlib inline  \n",
    "\n",
    "ashoka_data_path = \"data/ashoka-social-api-export.json\""
   ]
  },
  {
   "cell_type": "markdown",
   "metadata": {
    "collapsed": false
   },
   "source": [
    "Define funtions and load the data"
   ]
  },
  {
   "cell_type": "code",
   "execution_count": 4,
   "metadata": {
    "collapsed": false
   },
   "outputs": [],
   "source": [
    "def get_dict_value(dict_obj, key_value):\n",
    "    return str(dict_obj[key_value]).replace(\"\\t\", \"\") if(key_value in dict_obj) else None\n",
    "\n",
    "with open(ashoka_data_path) as data_file:    \n",
    "    ashoka_data = json.load(data_file)"
   ]
  },
  {
   "cell_type": "markdown",
   "metadata": {},
   "source": [
    "### Ashoka Nominees Data"
   ]
  },
  {
   "cell_type": "code",
   "execution_count": 5,
   "metadata": {
    "collapsed": false
   },
   "outputs": [],
   "source": [
    "nominees_array= []\n",
    "nominees_data = ashoka_data[\"nominees\"]\n",
    "for key in nominees_data:\n",
    "    nominee_dict = {}\n",
    "    nominee_data = ashoka_data[\"nominees\"][key]\n",
    "    for key_ in nominee_data:\n",
    "        nominee_dict[key_] = get_dict_value(nominee_data, key_)\n",
    "    \n",
    "    nominees_array.append(nominee_dict)\n",
    "    \n",
    "ashoka_nominees_df = pd.DataFrame(nominees_array)\n",
    "ashoka_nominees_df.to_csv(\"nominees.csv\", sep=';', encoding='utf-8')"
   ]
  },
  {
   "cell_type": "code",
   "execution_count": 6,
   "metadata": {
    "collapsed": false
   },
   "outputs": [
    {
     "data": {
      "text/plain": [
       "(117, 17)"
      ]
     },
     "execution_count": 6,
     "metadata": {},
     "output_type": "execute_result"
    }
   ],
   "source": [
    "ashoka_nominees_df.shape"
   ]
  },
  {
   "cell_type": "markdown",
   "metadata": {
    "collapsed": false
   },
   "source": [
    "### Ashoka Organizations Data"
   ]
  },
  {
   "cell_type": "code",
   "execution_count": 7,
   "metadata": {
    "collapsed": false
   },
   "outputs": [],
   "source": [
    "orgs_array= []\n",
    "orgs_data = ashoka_data[\"organizations\"]\n",
    "for key in orgs_data:\n",
    "    org_dict = {}\n",
    "    org_dict[\"org_id\"] = key\n",
    "    for key_ in orgs_data[key]:\n",
    "        org_dict[key_] = get_dict_value(orgs_data[key], key_)\n",
    "    \n",
    "    orgs_array.append(org_dict)\n",
    "    \n",
    "ashoka_orgs_df = pd.DataFrame(orgs_array)\n",
    "ashoka_orgs_df.to_csv(\"orgs.csv\", sep=';', encoding='utf-8')"
   ]
  },
  {
   "cell_type": "code",
   "execution_count": 8,
   "metadata": {
    "collapsed": false
   },
   "outputs": [
    {
     "data": {
      "text/plain": [
       "(102, 2)"
      ]
     },
     "execution_count": 8,
     "metadata": {},
     "output_type": "execute_result"
    }
   ],
   "source": [
    "ashoka_orgs_df.shape"
   ]
  },
  {
   "cell_type": "markdown",
   "metadata": {},
   "source": [
    "### Nominees and orgs relationship"
   ]
  },
  {
   "cell_type": "code",
   "execution_count": 9,
   "metadata": {
    "collapsed": false
   },
   "outputs": [
    {
     "data": {
      "text/plain": [
       "97"
      ]
     },
     "execution_count": 9,
     "metadata": {},
     "output_type": "execute_result"
    }
   ],
   "source": [
    "nominee_orgs_data = ashoka_data[\"nominee-organizations\"]\n",
    "len(nominee_orgs_data)"
   ]
  },
  {
   "cell_type": "markdown",
   "metadata": {
    "collapsed": false
   },
   "source": [
    "### Ashoka Surveys Data"
   ]
  },
  {
   "cell_type": "code",
   "execution_count": 10,
   "metadata": {
    "collapsed": false,
    "scrolled": false
   },
   "outputs": [
    {
     "name": "stdout",
     "output_type": "stream",
     "text": [
      "(55, 9)\n"
     ]
    },
    {
     "data": {
      "text/plain": [
       "(57, 33)"
      ]
     },
     "execution_count": 10,
     "metadata": {},
     "output_type": "execute_result"
    }
   ],
   "source": [
    "index_keys = [\"nomineeId\", \"education\", \"placeOfWork\", \"officeLocation\", \"orgs\"]\n",
    "file_name = \"nominee_surveys.csv\"\n",
    "nominee_surveys_dict = []\n",
    "orgs_surveys_dict = []\n",
    "for key in ashoka_data[\"surveys\"]:\n",
    "    nominee_survey_dict = {}\n",
    "    nominee_survey_dict[\"survey_id\"] = key\n",
    "    for key_lv2 in index_keys:\n",
    "        nominee_survey_dict[key_lv2] = get_dict_value(ashoka_data[\"surveys\"][key], key_lv2)\n",
    "    \n",
    "    nominee_survey_dict[\"typeOfImpact\"] = []\n",
    "    nominee_survey_dict[\"orgs_name\"] = []\n",
    "    nominee_survey_dict[\"numberImpacted\"] = 0\n",
    "\n",
    "    #validate that if the nominee belongs to any org.\n",
    "    #if not, move on to next survey.\n",
    "    nomineeId = ashoka_data[\"surveys\"][key][\"nomineeId\"]\n",
    "    if nomineeId not in nominee_orgs_data:\n",
    "        continue\n",
    "    \n",
    "    #if yes, find out the survey info about the orgs.\n",
    "    for org_key in nominee_orgs_data[nomineeId]:\n",
    "        if org_key not in ashoka_data[\"surveys\"][key]:\n",
    "            continue\n",
    "        \n",
    "        org_survey_data = ashoka_data[\"surveys\"][key][org_key]\n",
    "        org_survey_dict = {}\n",
    "        org_survey_dict[\"survey_id\"] = key\n",
    "        org_survey_dict[\"orgs_name\"] = org_key\n",
    "\n",
    "        for sub_key in org_survey_data:\n",
    "            org_survey_dict[sub_key] = get_dict_value(org_survey_data, sub_key)\n",
    "        orgs_surveys_dict.append(org_survey_dict)\n",
    "        \n",
    "        get_dict_value(org_survey_data, \"numberImpacted\")\n",
    "        \n",
    "        nominee_survey_dict[\"typeOfImpact\"].append(get_dict_value(org_survey_data, \"typeOfImpact\"))\n",
    "        nominee_survey_dict[\"numberImpacted\"] += int(get_dict_value(org_survey_data, \"numberImpacted\") if get_dict_value(org_survey_data, \"numberImpacted\") is not None else 0)\n",
    "#         nominee_survey_dict[\"founder\"] = get_dict_value(org_survey_data, \"founder\")\n",
    "        nominee_survey_dict[\"orgs_name\"].append(org_key)\n",
    "        \n",
    "    nominee_surveys_dict.append(nominee_survey_dict)\n",
    "\n",
    "\n",
    "nominee_surveys_df = pd.DataFrame(nominee_surveys_dict)\n",
    "nominee_surveys_df = nominee_surveys_df.groupby('nomineeId', group_keys=True).apply(lambda x: x.apply(lambda values: next(el for el in values if el is not np.nan), axis=\"rows\"))\n",
    "# nominee_surveys_df.to_csv(file_name, sep=';', encoding='utf-8')\n",
    "print(nominee_surveys_df.shape)\n",
    "\n",
    "orgs_surveys_df = pd.DataFrame(orgs_surveys_dict)\n",
    "orgs_surveys_df = orgs_surveys_df.groupby('orgs_name', group_keys=True).apply(lambda x: x.iloc[0])\n",
    "orgs_surveys_df.shape"
   ]
  },
  {
   "cell_type": "markdown",
   "metadata": {},
   "source": [
    "### Merge survey data for nominees"
   ]
  },
  {
   "cell_type": "code",
   "execution_count": 11,
   "metadata": {
    "collapsed": false
   },
   "outputs": [
    {
     "data": {
      "text/plain": [
       "(117, 26)"
      ]
     },
     "execution_count": 11,
     "metadata": {},
     "output_type": "execute_result"
    }
   ],
   "source": [
    "merged_nominees_df = pd.merge(ashoka_nominees_df, nominee_surveys_df, \n",
    "                               how=\"left\", left_on = 'id', right_on = 'nomineeId')\n",
    "merged_nominees_df.to_csv(\"nominees_suryves.csv\", sep=';', encoding='utf-8')\n",
    "merged_nominees_df.shape"
   ]
  },
  {
   "cell_type": "markdown",
   "metadata": {
    "collapsed": false
   },
   "source": [
    "### Merge survey data for orgs"
   ]
  },
  {
   "cell_type": "code",
   "execution_count": 12,
   "metadata": {
    "collapsed": false
   },
   "outputs": [
    {
     "data": {
      "text/plain": [
       "(102, 35)"
      ]
     },
     "execution_count": 12,
     "metadata": {},
     "output_type": "execute_result"
    }
   ],
   "source": [
    "merged_orgs_df = pd.merge(ashoka_orgs_df, orgs_surveys_df, \n",
    "                               how=\"left\", left_on = 'name', right_on = 'orgs_name')\n",
    "merged_orgs_df.to_csv(\"orgs_suryves.csv\", sep=';', encoding='utf-8')\n",
    "merged_orgs_df.shape\n",
    "# orgs_surveys_df"
   ]
  },
  {
   "cell_type": "markdown",
   "metadata": {},
   "source": [
    "## Analysis Examples"
   ]
  },
  {
   "cell_type": "code",
   "execution_count": 13,
   "metadata": {
    "collapsed": false
   },
   "outputs": [
    {
     "data": {
      "text/plain": [
       "<matplotlib.axes._subplots.AxesSubplot at 0x10bb21080>"
      ]
     },
     "execution_count": 13,
     "metadata": {},
     "output_type": "execute_result"
    },
    {
     "data": {
      "image/png": "[encoded data removed]",
      "text/plain": [
       "<matplotlib.figure.Figure at 0x10bb05390>"
      ]
     },
     "metadata": {},
     "output_type": "display_data"
    }
   ],
   "source": [
    "merged_nominees_df[\"placeOfWork\"].fillna(\"Unknown\", inplace=True)\n",
    "placeOfWork = merged_nominees_df[\"placeOfWork\"]\n",
    "placeOfWork.value_counts().plot.pie(figsize=(6, 6))"
   ]
  },
  {
   "cell_type": "code",
   "execution_count": 14,
   "metadata": {
    "collapsed": false
   },
   "outputs": [
    {
     "data": {
      "text/plain": [
       "<matplotlib.axes._subplots.AxesSubplot at 0x10bbce5f8>"
      ]
     },
     "execution_count": 14,
     "metadata": {},
     "output_type": "execute_result"
    },
    {
     "data": {
      "image/png": "[encoded data removed]",
      "text/plain": [
       "<matplotlib.figure.Figure at 0x10bb056a0>"
      ]
     },
     "metadata": {},
     "output_type": "display_data"
    }
   ],
   "source": [
    "merged_nominees_df[\"education\"].fillna(\"Unknown\", inplace=True)\n",
    "education = merged_nominees_df[\"education\"]\n",
    "education.value_counts().plot.bar(figsize=(6, 6))"
   ]
  },
  {
   "cell_type": "code",
   "execution_count": 15,
   "metadata": {
    "collapsed": false
   },
   "outputs": [
    {
     "data": {
      "text/plain": [
       "<matplotlib.axes._subplots.AxesSubplot at 0x10bd52f28>"
      ]
     },
     "execution_count": 15,
     "metadata": {},
     "output_type": "execute_result"
    },
    {
     "data": {
      "image/png": "[encoded data removed]",
      "text/plain": [
       "<matplotlib.figure.Figure at 0x10bda3550>"
      ]
     },
     "metadata": {},
     "output_type": "display_data"
    }
   ],
   "source": [
    "orgs_year = merged_orgs_df[\"year\"]\n",
    "orgs_year.value_counts().sort_index().plot.bar(figsize=(16, 6))"
   ]
  },
  {
   "cell_type": "code",
   "execution_count": null,
   "metadata": {
    "collapsed": true
   },
   "outputs": [],
   "source": []
  }
 ],
 "metadata": {
  "kernelspec": {
   "display_name": "Python 3",
   "language": "python",
   "name": "python3"
  },
  "language_info": {
   "codemirror_mode": {
    "name": "ipython",
    "version": 3
   },
   "file_extension": ".py",
   "mimetype": "text/x-python",
   "name": "python",
   "nbconvert_exporter": "python",
   "pygments_lexer": "ipython3",
   "version": "3.5.2"
  }
 },
 "nbformat": 4,
 "nbformat_minor": 0
}
